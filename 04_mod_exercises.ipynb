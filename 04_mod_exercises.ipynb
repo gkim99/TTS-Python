{
 "cells": [
  {
   "cell_type": "markdown",
   "metadata": {},
   "source": [
    "Data Science Fundamentals: Python |\n",
    "[Table of Contents](../index.ipynb)\n",
    "- - - \n",
    "<!--NAVIGATION-->\n",
    "Module 3. [Control Flow](./01_mod_control_flow.ipynb) | [Statements](./02_python_statements.ipynb) | [Functions](./03_python_functions.ipynb) | **[Exercises](./04_mod_exercises.ipynb)**\n",
    "<!--NAVIGATION-->\n",
    "Supplemental. [While Loops](./supplemental/01_while-loop.ipynb) | [If Elif Else](./supplemental/02_if-elif-else.ipynb) | [Break Continue](./supplemental/03_break_continue.ipynb) | [For Loops](./04_for_loop.ipynb)\n",
    "<!--NAVIGATION-->\n",
    "Optional. [Writing Assignment](./optional/writing_assignment.ipynb) | [Real World Examples](./optional/real_world_examples.ipynb)"
   ]
  },
  {
   "cell_type": "markdown",
   "metadata": {},
   "source": [
    "# Module 3: Practice Exercises"
   ]
  },
  {
   "cell_type": "markdown",
   "metadata": {},
   "source": [
    "1. Guess a number between 1 to 9 given by the user. Hint. [Random](https://docs.python.org/3/library/random.html)"
   ]
  },
  {
   "cell_type": "code",
   "execution_count": 4,
   "metadata": {},
   "outputs": [
    {
     "name": "stdout",
     "output_type": "stream",
     "text": [
      "Guess a number between 1 to 9: 2\n",
      "You guessed correctly!\n"
     ]
    }
   ],
   "source": [
    "import random\n",
    "\n",
    "x = 0\n",
    "y = random.randint(1,10)\n",
    "#create a while loop to see if the user correctly guesses the number that was randomly picked\n",
    "#while loop keeps going if the user incorrectly guesses\n",
    "#while loop ends if the user correctly guesses\n",
    "while x != y:\n",
    "    x = int(input(\"Guess a number between 1 to 9: \"))\n",
    "print(\"You guessed correctly!\")"
   ]
  },
  {
   "cell_type": "markdown",
   "metadata": {},
   "source": [
    "2. Check the validity of password input by the user. Hint. [Re](https://docs.python.org/3/library/re.html) which does matching operations much like Perl.\n",
    "\n",
    "Validation:\n",
    "\n",
    "- At least 1 letter between [a-z] and 1 letter between [A-Z].\n",
    "- At least 1 number between [0-9].\n",
    "- At least 1 character from [$#@].\n",
    "- Minimum length 6 characters.\n",
    "- Maximum length 16 characters."
   ]
  },
  {
   "cell_type": "code",
   "execution_count": 10,
   "metadata": {},
   "outputs": [
    {
     "name": "stdout",
     "output_type": "stream",
     "text": [
      "Input your password: Hello1234$\n",
      "Valid Password\n"
     ]
    }
   ],
   "source": [
    "import re\n",
    "#input user's password\n",
    "pw = input(\"Input your password: \")\n",
    "x = True\n",
    "#create a while loop to check if the password meets the requirements\n",
    "#break out of the loop if it does not\n",
    "while x:\n",
    "    if (len(pw)<6 or len(pw)>16):\n",
    "        break\n",
    "    elif not re.search(\"[a-z]\",pw):\n",
    "        break\n",
    "    elif not re.search(\"[A-Z]\",pw):\n",
    "        break\n",
    "    elif not re.search(\"[0-9]\",pw):\n",
    "        break\n",
    "    elif not re.search(\"[$#@]\",pw):\n",
    "        break\n",
    "    elif re.search(\"\\s\",pw):\n",
    "        break\n",
    "    else:\n",
    "        print(\"Valid Password\")\n",
    "        x = False\n",
    "        break\n",
    "        \n",
    "if x:\n",
    "    print(\"Invalid Password\") "
   ]
  },
  {
   "cell_type": "markdown",
   "metadata": {},
   "source": [
    "3. Get input of the age of 3 people by user and determine oldest and youngest among them"
   ]
  },
  {
   "cell_type": "code",
   "execution_count": 15,
   "metadata": {},
   "outputs": [
    {
     "name": "stdout",
     "output_type": "stream",
     "text": [
      "Enter First Person's Age : 23\n",
      "Enter Second Person's Age : 32\n",
      "Enter Third Person's Age : 27\n",
      "The Oldest of All Three People is: 32\n",
      "The Youngest of All Three People is: 23\n"
     ]
    }
   ],
   "source": [
    "number1 = int(input(\"Enter First Person's Age : \"))\n",
    "number2 = int(input(\"Enter Second Person's Age : \"))\n",
    "number3 = int(input(\"Enter Third Person's Age : \"))\n",
    "#create a list of the users' ages\n",
    "l = [number1, number2, number3]\n",
    "#get the youngest user\n",
    "mn = str(min(l))\n",
    "#get the oldest user\n",
    "mx = str(max(l))\n",
    "print(\"The Oldest of All Three People is: \" + mx)\n",
    "print(\"The Youngest of All Three People is: \" + mn)"
   ]
  },
  {
   "cell_type": "markdown",
   "metadata": {},
   "source": [
    "4. A student will not be allowed to sit in exam if his/her attendance is less than 75%.\n",
    "\n",
    "Take following input from user\n",
    "\n",
    "- Number of classes held\n",
    "- Number of classes attended.\n",
    "- And print percentage of class attended\n",
    "- Is student is allowed to sit in exam or not?"
   ]
  },
  {
   "cell_type": "code",
   "execution_count": 18,
   "metadata": {},
   "outputs": [
    {
     "name": "stdout",
     "output_type": "stream",
     "text": [
      "How many classes are held: 10\n",
      "How many classes have you attended: 9\n",
      "Percentage of class attended: 90.0\n",
      "You can take part in the exam\n"
     ]
    }
   ],
   "source": [
    "held = int(input(\"How many classes are held: \"))\n",
    "attended = int(input(\"How many classes have you attended: \"))\n",
    "per = (attended/held)*100\n",
    "print(\"Percentage of class attended: \" + str(per))\n",
    "\n",
    "#use if-else statements to check if user can take part in the exam\n",
    "if per > 75:\n",
    "    print(\"You can take part in the exam\")\n",
    "else:\n",
    "    print(\"You can not take part in the exam\")"
   ]
  },
  {
   "cell_type": "markdown",
   "metadata": {},
   "source": [
    "5. Get an integer N from the user and perform the following actions:\n",
    "\n",
    "Find out - \n",
    "- if N is odd, print \"weird\"\n",
    "- if N is even and in the inclusive range of 2 to 5, print \"Not Weird\"\n",
    "- if N is even and in the inclusive range of 6 to 20, print \"Weird\"\n",
    "- if N is even and greater than 20, print \"Not Weird\""
   ]
  },
  {
   "cell_type": "code",
   "execution_count": 32,
   "metadata": {},
   "outputs": [
    {
     "name": "stdout",
     "output_type": "stream",
     "text": [
      "Input a number to see if you are Weird or Not Weird: 3\n",
      "Weird\n"
     ]
    }
   ],
   "source": [
    "# Given an integer, n, perform the following conditional actions:\n",
    "# If n is odd, print Weird\n",
    "# If n is even and in the inclusive range of 2 to 5, print Not Weird\n",
    "# If n is even and in the inclusive range of 6 to 20, print Weird\n",
    "# If n is even and greater than 20, print Not Weird\n",
    "\n",
    "N = int(input(\"Input a number to see if you are Weird or Not Weird: \"))\n",
    "\n",
    "if N%2 != 0:\n",
    "    print(\"Weird\")\n",
    "elif (N%2 == 0 and 2<=N<=5):\n",
    "    print(\"Not Weird\")\n",
    "elif (N%2 == 0 and 6<=N<=20):\n",
    "    print(\"Weird\")\n",
    "else:\n",
    "    print(\"Not Weird\")"
   ]
  },
  {
   "cell_type": "markdown",
   "metadata": {},
   "source": [
    "\n",
    "## Extra Points\n",
    "- - -"
   ]
  },
  {
   "cell_type": "markdown",
   "metadata": {},
   "source": [
    "1. ***Optional Exercise (Extra Points)***. Write a Python program to reverse a string."
   ]
  },
  {
   "cell_type": "raw",
   "metadata": {},
   "source": [
    "Sample String : \"1234abcd\"\n",
    "Expected Output : \"dcba4321\""
   ]
  },
  {
   "cell_type": "code",
   "execution_count": 15,
   "metadata": {},
   "outputs": [
    {
     "name": "stdout",
     "output_type": "stream",
     "text": [
      "Input a string to reverse: 1234abcd\n"
     ]
    },
    {
     "data": {
      "text/plain": [
       "'dcba4321'"
      ]
     },
     "execution_count": 15,
     "metadata": {},
     "output_type": "execute_result"
    }
   ],
   "source": []
  },
  {
   "cell_type": "markdown",
   "metadata": {},
   "source": [
    "2. ***Optional Exercise (Extra Points)***. Write a Python function to multiply all the numbers in a list. "
   ]
  },
  {
   "cell_type": "raw",
   "metadata": {},
   "source": [
    "Sample List : (8, 2, 3, -1, 7)\n",
    "Expected Output : -336"
   ]
  },
  {
   "cell_type": "code",
   "execution_count": 14,
   "metadata": {},
   "outputs": [
    {
     "name": "stdout",
     "output_type": "stream",
     "text": [
      "-336\n"
     ]
    }
   ],
   "source": []
  },
  {
   "cell_type": "markdown",
   "metadata": {},
   "source": [
    "3. ***Optional Exercise (Extra Points)***. Write a Python function that accepts a string and calculate the number of upper case letters and lower case letters."
   ]
  },
  {
   "cell_type": "raw",
   "metadata": {},
   "source": [
    "Sample String : 'The quick Brow Fox'\n",
    "Expected Output :\n",
    "No. of Upper case characters : 3\n",
    "No. of Lower case Characters : 12"
   ]
  },
  {
   "cell_type": "code",
   "execution_count": 4,
   "metadata": {},
   "outputs": [
    {
     "name": "stdout",
     "output_type": "stream",
     "text": [
      "Input a sentence to calculate the number of upper and lower case letters: The quick Brown Fox\n",
      "Original String :  The quick Brown Fox\n",
      "No. of Upper case characters :  3\n",
      "No. of Lower case Characters :  13\n"
     ]
    }
   ],
   "source": []
  },
  {
   "cell_type": "markdown",
   "metadata": {},
   "source": [
    "- - -\n",
    "\n",
    "Copyright © 2020 Qualex Consulting Services Incorporated."
   ]
  }
 ],
 "metadata": {
  "kernelspec": {
   "display_name": "Python 3 (ipykernel)",
   "language": "python",
   "name": "python3"
  },
  "language_info": {
   "codemirror_mode": {
    "name": "ipython",
    "version": 3
   },
   "file_extension": ".py",
   "mimetype": "text/x-python",
   "name": "python",
   "nbconvert_exporter": "python",
   "pygments_lexer": "ipython3",
   "version": "3.9.12"
  }
 },
 "nbformat": 4,
 "nbformat_minor": 4
}
